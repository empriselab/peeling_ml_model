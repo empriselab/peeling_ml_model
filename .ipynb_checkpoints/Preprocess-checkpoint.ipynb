{
 "cells": [
  {
   "cell_type": "code",
   "execution_count": 2,
   "id": "94be3939",
   "metadata": {},
   "outputs": [],
   "source": [
    "import numpy as np\n",
    "import pickle\n",
    "\n",
    "# Signal Processing Imports\n",
    "from scipy.stats import kurtosis, skew\n",
    "import scipy.ndimage\n",
    "\n",
    "# Plotting Imports\n",
    "import matplotlib.pyplot as plt\n",
    "\n",
    "from scipy import signal\n",
    "import scipy.fftpack\n",
    "\n",
    "import struct\n",
    "import time\n",
    "\n",
    "# !pip install pickle5\n",
    "\n",
    "import pickle5 as p\n",
    "import pickle\n",
    "\n",
    "from sklearn.model_selection import train_test_split\n",
    "from sklearn.svm import SVC\n",
    "from sklearn.neural_network import MLPClassifier\n",
    "\n"
   ]
  },
  {
   "cell_type": "code",
   "execution_count": 32,
   "id": "ddb0b089",
   "metadata": {},
   "outputs": [],
   "source": [
    "import jsonpickle"
   ]
  },
  {
   "cell_type": "code",
   "execution_count": 33,
   "id": "0a33d261",
   "metadata": {},
   "outputs": [],
   "source": [
    "def extract_contact_data(veg_type=\"carrot\", version=\"0\", check_data=False):\n",
    "    \n",
    "    # with open('pickle_data/carrot_real2_0.pickle', 'rb') as handle:\n",
    "    #     contact_data = pickle.load(handle)\n",
    "    veg_type = veg_type\n",
    "    version = version\n",
    "    with open(f'pickle_data/{veg_type}_real2_{version}.pickle', \"rb\") as fh:\n",
    "        contact_data = p.load(fh)\n",
    "    \n",
    "    thresholds = {\"carrot\": (0.03, 0.01), \"apple\": (0.1, 0.02), \"cucumber\": (0.1, 0.02), \"potato\": (0.1, 0.01)}\n",
    "\n",
    "    datatypes = {1: \"sliding over unpeeled\", 2: \"peeling over unpeeled\", 3: \"peeling over peeled\", 4: \"sliding over peeled\"}\n",
    "\n",
    "\n",
    "    if check_data:\n",
    "        # print(len(contact_data))\n",
    "        contact_count = {\"inside_incidental\" : 0, \"inside_intentional_bite\" : 0, \"inside_intentional_tongue\" : 0, \"outside_incidental\" : 0}\n",
    "        for data in contact_data:\n",
    "            contact_count[data['contact_type']] += 1\n",
    "        # print(contact_count)\n",
    "    \n",
    "    # Check type of data:\n",
    "    # print(f\"Datapoint Keys: {contact_data[0].keys()}, Datapoint Key Type: {type(contact_data[0].keys())}\")\n",
    "    # print(f\"Haptic Data Shape: {len(contact_data[0]['haptic'])}, Haptic Data Type: {type(contact_data[0]['haptic'])}\")\n",
    "    # print(f\"Audio Data Shape: {len(contact_data[0]['audio'])}, Audio Data Type: {type(contact_data[0]['audio'])}\")\n",
    "    \n",
    "    PEELING_THRESHOLD = thresholds[veg_type][0]\n",
    "    SLIDING_THRESHOLD = thresholds[veg_type][1]\n",
    "\n",
    "    x_data_sliding = []\n",
    "    y_data_sliding = []\n",
    "    x_data_peeling = []\n",
    "    y_data_peeling = []\n",
    "\n",
    "    for data in contact_data:\n",
    "\n",
    "        print(f\"Vegetable Type: {veg_type}\")\n",
    "\n",
    "        audio_data = np.array(data['audio'])\n",
    "        haptic_data = np.array(data['haptic'])\n",
    "        copy_haptic_data = haptic_data\n",
    "        key_data = np.array(data['key'])\n",
    "        audio_data = np.fromstring(audio_data, \"int16\")\n",
    "        # audio_data = np.int16((audio_data/ audio_data.max())*32767)\n",
    "        # print(audio_data)\n",
    "        # print(audio_data.shape)\n",
    "        \n",
    "        # print(haptic_data[:, 4])\n",
    "\n",
    "        haptic_map = {\"carrot\": haptic_data[:, 4], \"cucumber\": haptic_data[:, 4], \"potato\": haptic_data[:, 4], \"apple\": haptic_data[:, 4]}\n",
    "        # TODO: select data range with physics, make sliding window, once range \n",
    "\n",
    "        # print(haptic_map)\n",
    "        haptic_data = haptic_map[veg_type]\n",
    "        # haptic_data = np.linalg.norm(haptic_data[:,:3], axis=1)\n",
    "\n",
    "        print(f\"Key: {key_data}, Datatype: {datatypes[int(key_data)]}\")\n",
    "        \n",
    "        # # Change weights of forces and torques\n",
    "        # datapoint[:,:3] *=0\n",
    "        # datapoint[:,3:] *= 5\n",
    "\n",
    "        DATA_SELECTED = haptic_data\n",
    "\n",
    "        SLIDING_SLOPE = 0.004\n",
    "        PEELING_SLOPE = 0.0065\n",
    "        WINDOW_SIZE = 1\n",
    "        COUNT_THRESH = 7\n",
    "\n",
    "\n",
    "        # print(f\"Datapoint Shape: {DATA_SELECTED.shape}\")\n",
    "        # print(f\"Datapoint Type: {type(DATA_SELECTED[0])}\")\n",
    "\n",
    "\n",
    "        if int(key_data) == 1 or int(key_data) == 4:\n",
    "            THRESHOLD = SLIDING_THRESHOLD\n",
    "            SLOPE_THRESHOLD = SLIDING_SLOPE\n",
    "\n",
    "        else:\n",
    "            THRESHOLD = PEELING_THRESHOLD\n",
    "            SLOPE_THRESHOLD = PEELING_SLOPE\n",
    "        \n",
    "        # print(f\"Threshold: {THRESHOLD}\")\n",
    "\n",
    "\n",
    "        start = 0\n",
    "        end = 0\n",
    "        flag = False\n",
    "        slope = SLOPE_THRESHOLD\n",
    "        while start == 0:\n",
    "            if slope <= 0:\n",
    "                print(\"error\")\n",
    "                break\n",
    "\n",
    "            for i in range(len(DATA_SELECTED)):\n",
    "                count_start = 0\n",
    "                while count_start < COUNT_THRESH:\n",
    "                    if i + WINDOW_SIZE >= len(DATA_SELECTED):\n",
    "                        slope -= 0.001\n",
    "                        flag = True\n",
    "                        break\n",
    "\n",
    "                    # print(\"find start\", (DATA_SELECTED[i + WINDOW_SIZE] - DATA_SELECTED[i]) / WINDOW_SIZE)\n",
    "\n",
    "                    if (DATA_SELECTED[i + WINDOW_SIZE] - DATA_SELECTED[i]) / WINDOW_SIZE > SLOPE_THRESHOLD:\n",
    "                        count_start += 1\n",
    "                    else:\n",
    "                        break   \n",
    "                if flag:\n",
    "                    print(slope)\n",
    "                    flag = False\n",
    "                    break\n",
    "                if count_start == COUNT_THRESH:\n",
    "                    start = i\n",
    "                    break\n",
    "        \n",
    "        # end_val = DATA_SELECTED[start]\n",
    "        # print(end_val)\n",
    "        # for i in range(len(DATA_SELECTED) - 1, -1, -1):\n",
    "        #     if abs(DATA_SELECTED[i] - end_val) <= 0.0001:\n",
    "        #         end = i\n",
    "        #         break\n",
    "        flag = False\n",
    "        slope = SLOPE_THRESHOLD\n",
    "        COUNT_THRESH = 3\n",
    "        while end == 0:\n",
    "            if flag:\n",
    "                print(SLOPE_THRESHOLD)\n",
    "                flag = False\n",
    "            if SLOPE_THRESHOLD <= 0:\n",
    "                print(\"error\")\n",
    "                break\n",
    "            for i in range(len(DATA_SELECTED) - 1, -1, -1):\n",
    "                count_end = 0\n",
    "                while count_end < COUNT_THRESH:\n",
    "                    if i - WINDOW_SIZE < 0:\n",
    "                        SLOPE_THRESHOLD -= 0.001\n",
    "                        flag = True\n",
    "                        break\n",
    "                    \n",
    "                    # print(\"find end\", (DATA_SELECTED[i] - DATA_SELECTED[i - WINDOW_SIZE]) / WINDOW_SIZE)\n",
    "                    \n",
    "                    if (DATA_SELECTED[i] - DATA_SELECTED[i - WINDOW_SIZE]) / WINDOW_SIZE > SLOPE_THRESHOLD:\n",
    "                        count_end += 1\n",
    "                    else:\n",
    "                        break\n",
    "                if flag:\n",
    "                    print(slope)\n",
    "                    flag = False\n",
    "                    break\n",
    "                if count_end == COUNT_THRESH:\n",
    "                    end = i\n",
    "                    break\n",
    "                \n",
    "\n",
    "        # for i in range(len(DATA_SELECTED)):\n",
    "        #     if start == 0:\n",
    "        #         if DATA_SELECTED[i] > THRESHOLD:\n",
    "        #             start = i\n",
    "        #     else:\n",
    "        #         if DATA_SELECTED[i] > THRESHOLD:\n",
    "        #             end = i\n",
    "\n",
    "        if abs(end - start) < 20:\n",
    "            continue\n",
    "\n",
    "        if start == end:\n",
    "            continue \n",
    "            \n",
    "        end = start + int((end - start) * 0.6)\n",
    "\n",
    "        # for y_data, 0 == \"unpeeled\", 1 == \"peeled\"\n",
    "        if int(key_data) == 1 or int(key_data) == 4:\n",
    "            all_data = []\n",
    "            all_data.extend(audio_data[start:end])\n",
    "            all_data.extend(np.linalg.norm(copy_haptic_data, axis=1)[start:end])\n",
    "            all_data = all_data/np.linalg.norm(all_data)\n",
    "            x_data_sliding.append(all_data)\n",
    "            if int(key_data) == 1:\n",
    "                y_data_sliding.append(0)\n",
    "            else:\n",
    "                y_data_sliding.append(1)\n",
    "        else:\n",
    "            all_data = []\n",
    "            all_data.extend(audio_data[start:end])\n",
    "            all_data.extend(np.linalg.norm(copy_haptic_data, axis=1)[start:end])\n",
    "            all_data = all_data/np.linalg.norm(all_data)\n",
    "            x_data_peeling.append(all_data)\n",
    "            if int(key_data) == 2:\n",
    "                y_data_peeling.append(0)\n",
    "            else:\n",
    "                y_data_peeling.append(1)\n",
    "        \n",
    "        # print(DATA_SELECTED.shape)\n",
    "\n",
    "        # Plot norm of forces\n",
    "        # plt.clf()\n",
    "        # plt.figure(figsize=(40, 12), dpi=300)\n",
    "        # # plt.axhline(end_val, linewidth=2, color='b', alpha=0.5)\n",
    "        # plt.axvline(start, linewidth=2, color='r', alpha=0.5)\n",
    "        # # plt.axvline(start + WINDOW_SIZE, linewidth=2, color='r', alpha=0.5)\n",
    "        # plt.axvline(end, linewidth=2, color='g', alpha=0.5)\n",
    "        # # plt.axvline(end - WINDOW_SIZE, linewidth=2, color='g', alpha=0.5)\n",
    "        # plt.plot(np.arange(0, len(DATA_SELECTED)), DATA_SELECTED)\n",
    "        # plt.show()\n",
    "    return x_data_sliding, y_data_sliding, x_data_peeling, y_data_peeling\n",
    "\n",
    "        "
   ]
  },
  {
   "cell_type": "code",
   "execution_count": 34,
   "id": "250371bc",
   "metadata": {
    "scrolled": true
   },
   "outputs": [
    {
     "ename": "NameError",
     "evalue": "name 'json_df' is not defined",
     "output_type": "error",
     "traceback": [
      "\u001b[1;31m---------------------------------------------------------------------------\u001b[0m",
      "\u001b[1;31mNameError\u001b[0m                                 Traceback (most recent call last)",
      "\u001b[1;32m~\\AppData\\Local\\Temp\\ipykernel_1644\\1750868154.py\u001b[0m in \u001b[0;36m<module>\u001b[1;34m\u001b[0m\n\u001b[0;32m      7\u001b[0m     \u001b[0mv\u001b[0m \u001b[1;33m=\u001b[0m \u001b[0mitem\u001b[0m\u001b[1;33m[\u001b[0m\u001b[1;36m0\u001b[0m\u001b[1;33m]\u001b[0m\u001b[1;33m\u001b[0m\u001b[1;33m\u001b[0m\u001b[0m\n\u001b[0;32m      8\u001b[0m     \u001b[0mt\u001b[0m \u001b[1;33m=\u001b[0m \u001b[0mitem\u001b[0m\u001b[1;33m[\u001b[0m\u001b[1;36m1\u001b[0m\u001b[1;33m]\u001b[0m\u001b[1;33m\u001b[0m\u001b[1;33m\u001b[0m\u001b[0m\n\u001b[1;32m----> 9\u001b[1;33m     \u001b[0mx\u001b[0m\u001b[1;33m,\u001b[0m \u001b[0my\u001b[0m\u001b[1;33m,\u001b[0m \u001b[0mxp\u001b[0m\u001b[1;33m,\u001b[0m \u001b[0myp\u001b[0m \u001b[1;33m=\u001b[0m \u001b[0mextract_contact_data\u001b[0m\u001b[1;33m(\u001b[0m\u001b[0mveg_type\u001b[0m\u001b[1;33m=\u001b[0m\u001b[0mv\u001b[0m\u001b[1;33m,\u001b[0m \u001b[0mversion\u001b[0m\u001b[1;33m=\u001b[0m\u001b[0mt\u001b[0m\u001b[1;33m)\u001b[0m\u001b[1;33m\u001b[0m\u001b[1;33m\u001b[0m\u001b[0m\n\u001b[0m\u001b[0;32m     10\u001b[0m     \u001b[0mx_data_sliding\u001b[0m\u001b[1;33m.\u001b[0m\u001b[0mextend\u001b[0m\u001b[1;33m(\u001b[0m\u001b[0mx\u001b[0m\u001b[1;33m)\u001b[0m\u001b[1;33m\u001b[0m\u001b[1;33m\u001b[0m\u001b[0m\n\u001b[0;32m     11\u001b[0m     \u001b[0my_data_sliding\u001b[0m\u001b[1;33m.\u001b[0m\u001b[0mextend\u001b[0m\u001b[1;33m(\u001b[0m\u001b[0my\u001b[0m\u001b[1;33m)\u001b[0m\u001b[1;33m\u001b[0m\u001b[1;33m\u001b[0m\u001b[0m\n",
      "\u001b[1;32m~\\AppData\\Local\\Temp\\ipykernel_1644\\1535168371.py\u001b[0m in \u001b[0;36mextract_contact_data\u001b[1;34m(veg_type, version, check_data)\u001b[0m\n\u001b[0;32m     12\u001b[0m     \u001b[1;31m# Create and record the JSON data in a new .JSON file\u001b[0m\u001b[1;33m\u001b[0m\u001b[1;33m\u001b[0m\u001b[1;33m\u001b[0m\u001b[0m\n\u001b[0;32m     13\u001b[0m     \u001b[1;32mwith\u001b[0m \u001b[0mopen\u001b[0m\u001b[1;33m(\u001b[0m\u001b[1;34m'pickle_to_json.json'\u001b[0m\u001b[1;33m,\u001b[0m \u001b[1;34m'w'\u001b[0m\u001b[1;33m)\u001b[0m \u001b[1;32mas\u001b[0m \u001b[0mjs_file\u001b[0m\u001b[1;33m:\u001b[0m\u001b[1;33m\u001b[0m\u001b[1;33m\u001b[0m\u001b[0m\n\u001b[1;32m---> 14\u001b[1;33m         \u001b[0mjs_file\u001b[0m\u001b[1;33m.\u001b[0m\u001b[0mwrite\u001b[0m\u001b[1;33m(\u001b[0m\u001b[0mjson_df\u001b[0m\u001b[1;33m)\u001b[0m\u001b[1;33m\u001b[0m\u001b[1;33m\u001b[0m\u001b[0m\n\u001b[0m\u001b[0;32m     15\u001b[0m \u001b[1;33m\u001b[0m\u001b[0m\n\u001b[0;32m     16\u001b[0m     \u001b[0mthresholds\u001b[0m \u001b[1;33m=\u001b[0m \u001b[1;33m{\u001b[0m\u001b[1;34m\"carrot\"\u001b[0m\u001b[1;33m:\u001b[0m \u001b[1;33m(\u001b[0m\u001b[1;36m0.03\u001b[0m\u001b[1;33m,\u001b[0m \u001b[1;36m0.01\u001b[0m\u001b[1;33m)\u001b[0m\u001b[1;33m,\u001b[0m \u001b[1;34m\"apple\"\u001b[0m\u001b[1;33m:\u001b[0m \u001b[1;33m(\u001b[0m\u001b[1;36m0.1\u001b[0m\u001b[1;33m,\u001b[0m \u001b[1;36m0.02\u001b[0m\u001b[1;33m)\u001b[0m\u001b[1;33m,\u001b[0m \u001b[1;34m\"cucumber\"\u001b[0m\u001b[1;33m:\u001b[0m \u001b[1;33m(\u001b[0m\u001b[1;36m0.1\u001b[0m\u001b[1;33m,\u001b[0m \u001b[1;36m0.02\u001b[0m\u001b[1;33m)\u001b[0m\u001b[1;33m,\u001b[0m \u001b[1;34m\"potato\"\u001b[0m\u001b[1;33m:\u001b[0m \u001b[1;33m(\u001b[0m\u001b[1;36m0.1\u001b[0m\u001b[1;33m,\u001b[0m \u001b[1;36m0.01\u001b[0m\u001b[1;33m)\u001b[0m\u001b[1;33m}\u001b[0m\u001b[1;33m\u001b[0m\u001b[1;33m\u001b[0m\u001b[0m\n",
      "\u001b[1;31mNameError\u001b[0m: name 'json_df' is not defined"
     ]
    }
   ],
   "source": [
    "x_data_sliding = []\n",
    "y_data_sliding = []\n",
    "x_data_peeling = []\n",
    "y_data_peeling = []\n",
    "\n",
    "for item in [(\"apple\", \"3\"), (\"carrot\", \"0\"), (\"potato\", \"0\"), (\"cucumber\", \"2\")]:\n",
    "    v = item[0]\n",
    "    t = item[1]\n",
    "    x, y, xp, yp = extract_contact_data(veg_type=v, version=t)\n",
    "    x_data_sliding.extend(x)\n",
    "    y_data_sliding.extend(y)\n",
    "    x_data_peeling.extend(xp)\n",
    "    y_data_peeling.extend(yp)"
   ]
  },
  {
   "cell_type": "code",
   "execution_count": 5,
   "id": "729d2185",
   "metadata": {},
   "outputs": [
    {
     "name": "stdout",
     "output_type": "stream",
     "text": [
      "396\n",
      "360\n"
     ]
    },
    {
     "name": "stderr",
     "output_type": "stream",
     "text": [
      "D:\\Anaconda\\envs\\py37\\lib\\site-packages\\ipykernel_launcher.py:4: VisibleDeprecationWarning: Creating an ndarray from ragged nested sequences (which is a list-or-tuple of lists-or-tuples-or ndarrays with different lengths or shapes) is deprecated. If you meant to do this, you must specify 'dtype=object' when creating the ndarray.\n",
      "  after removing the cwd from sys.path.\n"
     ]
    }
   ],
   "source": [
    "# TODO: see if slide model is better than peeling data\n",
    "results = []\n",
    "for data in [x_data_sliding, x_data_peeling]:\n",
    "    data = np.array(data)\n",
    "\n",
    "    max_len = max(len(sublist) for sublist in data)\n",
    "    print(max_len)\n",
    "    def padding(lst, max_len):\n",
    "        pad = max_len - len(lst)\n",
    "        return np.pad(lst, (pad // 2, pad - pad // 2), 'constant')\n",
    "\n",
    "    results.append([padding(lst, max_len) for lst in data])\n",
    "\n",
    "x_data_sliding = results[0]\n",
    "x_data_peeling = results[1]\n",
    "y_data_sliding = np.array(y_data_sliding)\n",
    "y_data_peeling = np.array(y_data_peeling)\n",
    "      \n",
    "x_train, x_test, y_train, y_test = train_test_split(x_data_sliding, y_data_sliding, test_size=0.2, random_state=42)\n"
   ]
  },
  {
   "cell_type": "code",
   "execution_count": 6,
   "id": "978bd9c2",
   "metadata": {},
   "outputs": [
    {
     "name": "stdout",
     "output_type": "stream",
     "text": [
      "fitting...\n",
      "acc=0.250\n"
     ]
    }
   ],
   "source": [
    "print('fitting...')\n",
    "clf = SVC(kernel = 'sigmoid', C=1, gamma='auto')\n",
    "clf.fit(x_train, y_train)\n",
    "acc = clf.score(x_test, y_test)\n",
    "print(\"acc=%0.3f\" % acc)"
   ]
  },
  {
   "cell_type": "code",
   "execution_count": 7,
   "id": "8462c238",
   "metadata": {},
   "outputs": [
    {
     "name": "stdout",
     "output_type": "stream",
     "text": [
      "acc=0.750\n"
     ]
    }
   ],
   "source": [
    "clf = MLPClassifier(solver='lbfgs', alpha=1e-3, hidden_layer_sizes=(1000, 2), max_iter=1000, random_state=42)\n",
    "clf.fit(x_train, y_train)\n",
    "acc = clf.score(x_test, y_test)\n",
    "print(\"acc=%0.3f\" % acc)"
   ]
  },
  {
   "cell_type": "code",
   "execution_count": 8,
   "id": "397ec548",
   "metadata": {},
   "outputs": [],
   "source": [
    "x_train, x_test, y_train, y_test = train_test_split(x_data_peeling, y_data_peeling, test_size=0.2, random_state=42)\n"
   ]
  },
  {
   "cell_type": "code",
   "execution_count": 9,
   "id": "d79b31f2",
   "metadata": {},
   "outputs": [
    {
     "name": "stdout",
     "output_type": "stream",
     "text": [
      "fitting...\n",
      "acc=0.250\n"
     ]
    }
   ],
   "source": [
    "print('fitting...')\n",
    "clf = SVC(kernel = 'sigmoid', C=1, gamma='auto')\n",
    "clf.fit(x_train, y_train)\n",
    "acc = clf.score(x_test, y_test)\n",
    "print(\"acc=%0.3f\" % acc)"
   ]
  },
  {
   "cell_type": "code",
   "execution_count": 10,
   "id": "58fc5168",
   "metadata": {},
   "outputs": [
    {
     "name": "stdout",
     "output_type": "stream",
     "text": [
      "acc=0.500\n"
     ]
    }
   ],
   "source": [
    "clf = MLPClassifier(solver='lbfgs', alpha=1e-3, hidden_layer_sizes=(1000, 2), max_iter=1000, random_state=42)\n",
    "clf.fit(x_train, y_train)\n",
    "acc = clf.score(x_test, y_test)\n",
    "print(\"acc=%0.3f\" % acc)"
   ]
  },
  {
   "cell_type": "code",
   "execution_count": 11,
   "id": "a0cb5f0d",
   "metadata": {},
   "outputs": [
    {
     "name": "stdout",
     "output_type": "stream",
     "text": [
      "[1 1 0 0 0 0 1 0 1 1 1 0 1 1 1]\n"
     ]
    }
   ],
   "source": [
    "print(y_train)"
   ]
  },
  {
   "cell_type": "code",
   "execution_count": 38,
   "id": "55ce951b",
   "metadata": {},
   "outputs": [
    {
     "ename": "ModuleNotFoundError",
     "evalue": "No module named 'pandas'",
     "output_type": "error",
     "traceback": [
      "\u001b[1;31m---------------------------------------------------------------------------\u001b[0m",
      "\u001b[1;31mModuleNotFoundError\u001b[0m                       Traceback (most recent call last)",
      "\u001b[1;32m~\\AppData\\Local\\Temp\\ipykernel_1644\\4080736814.py\u001b[0m in \u001b[0;36m<module>\u001b[1;34m\u001b[0m\n\u001b[1;32m----> 1\u001b[1;33m \u001b[1;32mimport\u001b[0m \u001b[0mpandas\u001b[0m \u001b[1;32mas\u001b[0m \u001b[0mpd\u001b[0m\u001b[1;33m\u001b[0m\u001b[1;33m\u001b[0m\u001b[0m\n\u001b[0m",
      "\u001b[1;31mModuleNotFoundError\u001b[0m: No module named 'pandas'"
     ]
    }
   ],
   "source": [
    "import pandas as pd"
   ]
  },
  {
   "cell_type": "code",
   "execution_count": 37,
   "id": "9b8a4c0e",
   "metadata": {},
   "outputs": [
    {
     "ename": "NameError",
     "evalue": "name 'pd' is not defined",
     "output_type": "error",
     "traceback": [
      "\u001b[1;31m---------------------------------------------------------------------------\u001b[0m",
      "\u001b[1;31mNameError\u001b[0m                                 Traceback (most recent call last)",
      "\u001b[1;32m~\\AppData\\Local\\Temp\\ipykernel_1644\\667869528.py\u001b[0m in \u001b[0;36m<module>\u001b[1;34m\u001b[0m\n\u001b[0;32m      4\u001b[0m \u001b[1;33m\u001b[0m\u001b[0m\n\u001b[0;32m      5\u001b[0m \u001b[1;31m# Create a Pandas DataFrame\u001b[0m\u001b[1;33m\u001b[0m\u001b[1;33m\u001b[0m\u001b[1;33m\u001b[0m\u001b[0m\n\u001b[1;32m----> 6\u001b[1;33m \u001b[0mdf\u001b[0m \u001b[1;33m=\u001b[0m \u001b[0mpd\u001b[0m\u001b[1;33m.\u001b[0m\u001b[0mDataFrame\u001b[0m\u001b[1;33m.\u001b[0m\u001b[0mfrom_dict\u001b[0m\u001b[1;33m(\u001b[0m\u001b[0mnew_dict\u001b[0m\u001b[1;33m,\u001b[0m \u001b[0morient\u001b[0m\u001b[1;33m=\u001b[0m\u001b[1;34m'index'\u001b[0m\u001b[1;33m)\u001b[0m\u001b[1;33m\u001b[0m\u001b[1;33m\u001b[0m\u001b[0m\n\u001b[0m\u001b[0;32m      7\u001b[0m \u001b[1;33m\u001b[0m\u001b[0m\n\u001b[0;32m      8\u001b[0m \u001b[1;31m# Copy DataFrame index as a column\u001b[0m\u001b[1;33m\u001b[0m\u001b[1;33m\u001b[0m\u001b[1;33m\u001b[0m\u001b[0m\n",
      "\u001b[1;31mNameError\u001b[0m: name 'pd' is not defined"
     ]
    }
   ],
   "source": [
    "# Load the pickle format file\n",
    "with open('pickle_data/apple_real2_1.pickle', \"rb\") as fh:\n",
    "    new_dict = p.load(fh)\n",
    "\n",
    "# Create a Pandas DataFrame\n",
    "df = pd.DataFrame.from_dict(new_dict, orient='index')\n",
    "\n",
    "# Copy DataFrame index as a column\n",
    "df['index1'] = df.index\n",
    "\n",
    "# Move the new index column to the front of the DataFrame\n",
    "index1 = df['index1']\n",
    "df.drop(labels=['index1'], axis=1, inplace=True)\n",
    "df.insert(0, 'index1', index1)\n",
    "\n",
    "# Convert to json values\n",
    "json_df = df.to_json(orient='values', date_format='iso', date_unit='s')\n",
    "\n",
    "# Create and record the JSON data in a new .JSON file\n",
    "with open('data.json', 'w') as js_file:\n",
    "    js_file.write(json_df)"
   ]
  },
  {
   "cell_type": "code",
   "execution_count": null,
   "id": "82c4b12b",
   "metadata": {},
   "outputs": [],
   "source": []
  }
 ],
 "metadata": {
  "kernelspec": {
   "display_name": "Python 3 (ipykernel)",
   "language": "python",
   "name": "python3"
  },
  "language_info": {
   "codemirror_mode": {
    "name": "ipython",
    "version": 3
   },
   "file_extension": ".py",
   "mimetype": "text/x-python",
   "name": "python",
   "nbconvert_exporter": "python",
   "pygments_lexer": "ipython3",
   "version": "3.7.16"
  },
  "vscode": {
   "interpreter": {
    "hash": "ee57312729eceb3f16d8d296bdac1b4cee5cea3015e6e082022702febbbd75e2"
   }
  }
 },
 "nbformat": 4,
 "nbformat_minor": 5
}
